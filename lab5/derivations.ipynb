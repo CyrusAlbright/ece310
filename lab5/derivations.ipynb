{
 "cells": [
  {
   "cell_type": "markdown",
   "id": "2cc1a2f9",
   "metadata": {},
   "source": [
    "Half-wave rectifier\n",
    "$$V_{ac} = 12.6V_{rms}$$\n",
    "$$V_p = V_{ac} \\cdot sqrt(2) = 17.8V$$\n",
    "$$V_{dc} = V_p - V_f = 17.8V - 0.7V = 17.1V$$\n",
    "$$V_r = \\frac{V_{dc}}{R}\\frac{T}{C} = \\frac{17.1V}{1k\\Omega}\\frac{\\frac{1}{60}s}{470\\mu F} \\approx 0.606 V$$\n",
    "$$\\Delta T = \\frac{1}{2\\pi60 \\text{rads/s}}\\sqrt{\\frac{2 \\cdot 0.606}{17.8}} \\approx 692\\mu s$$\n",
    "$$I_p = \\frac{V_{dc}}{R_L}\\frac{2T}{\\Delta T} = \\frac{17.1V}{1k\\Omega}\\frac{2\\frac{1}{60}Hz}{692\\mu s} \\approx 824 mA$$"
   ]
  }
 ],
 "metadata": {
  "language_info": {
   "name": "python"
  }
 },
 "nbformat": 4,
 "nbformat_minor": 5
}
